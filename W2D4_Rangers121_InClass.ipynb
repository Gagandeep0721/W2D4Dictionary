{
 "cells": [
  {
   "cell_type": "markdown",
   "metadata": {},
   "source": [
    "# User-Defined Functions & Scoping"
   ]
  },
  {
   "cell_type": "markdown",
   "metadata": {},
   "source": [
    "## Tasks Today:\n",
    "\n",
    "\n",
    "1) Functions <br>\n",
    " &nbsp;&nbsp;&nbsp;&nbsp; a) User-Defined vs. Built-In Functions <br>\n",
    " &nbsp;&nbsp;&nbsp;&nbsp; b) Accepting Parameters <br>\n",
    " &nbsp;&nbsp;&nbsp;&nbsp; c) Default Parameters <br>\n",
    " &nbsp;&nbsp;&nbsp;&nbsp; d) Making an Argument Optional <br>\n",
    " &nbsp;&nbsp;&nbsp;&nbsp; e) Keyword Arguments <br>\n",
    " &nbsp;&nbsp;&nbsp;&nbsp; f) Returning Values <br>\n",
    " &nbsp;&nbsp;&nbsp;&nbsp; g) *args <br>\n",
    " &nbsp;&nbsp;&nbsp;&nbsp; h) Docstring <br>\n",
    " &nbsp;&nbsp;&nbsp;&nbsp; i) Using a User Function in a Loop <br>\n",
    "2) Scope\n",
    "3) Creating more User-Defined functions "
   ]
  },
  {
   "cell_type": "markdown",
   "metadata": {},
   "source": [
    "\n",
    "## Functions"
   ]
  },
  {
   "cell_type": "markdown",
   "metadata": {},
   "source": [
    "##### User-Defined vs. Built-In Functions"
   ]
  },
  {
   "cell_type": "code",
   "execution_count": 3,
   "metadata": {},
   "outputs": [
    {
     "name": "stdout",
     "output_type": "stream",
     "text": [
      "hello\n",
      "hello\n"
     ]
    }
   ],
   "source": [
    "# built in function\n",
    "print(\"hello\")\n",
    "#lem()\n",
    "#range()\n",
    "\n",
    "def say_hello():\n",
    "    print(\"hello\")\n",
    "\n",
    "    #always need parantheses at the end of a function call\n",
    "say_hello()"
   ]
  },
  {
   "cell_type": "markdown",
   "metadata": {},
   "source": [
    "##### Accepting Parameters"
   ]
  },
  {
   "cell_type": "code",
   "execution_count": 7,
   "metadata": {
    "scrolled": true
   },
   "outputs": [
    {
     "name": "stdout",
     "output_type": "stream",
     "text": [
      "hello, Rhodehouse\n",
      "The beautiful dog scooted across the street\n"
     ]
    }
   ],
   "source": [
    "# elements passed into a function\n",
    "# variables to hold the place of items our function will act upon\n",
    "# order matters\n",
    "# a parameter can be of any object type (data type)\n",
    "#parameter when namin a function\n",
    "#argument when calling a function\n",
    "def say_hello(username):\n",
    "    print(f\"Hello, {username}\")\n",
    "    #argument\n",
    "say_hello(\"Rhodehouse\")\n",
    "\n",
    "def make_sentence(noun, verb, adjective):\n",
    "    print(f\"The {adjective} {noun} {verb} across the street\")\n",
    "\n",
    "make_sentence('dog', 'scooted', 'beautiful')\n"
   ]
  },
  {
   "cell_type": "markdown",
   "metadata": {},
   "source": [
    "##### Default Parameters"
   ]
  },
  {
   "cell_type": "code",
   "execution_count": 5,
   "metadata": {},
   "outputs": [
    {
     "name": "stdout",
     "output_type": "stream",
     "text": [
      "The name is Bond....James Bond\n",
      "The name is Jenkins....leroy Jenkins\n"
     ]
    }
   ],
   "source": [
    "# default parameters must always come after non-default parameters at all times forever and ever...or else\n",
    "def agent_name(first_name, last_name=\"Bond\"):\n",
    "    print(f\"The name is {last_name}....{first_name} {last_name}\")\n",
    "agent_name('James')\n",
    "\n",
    "agent_name(\"leroy\", \"Jenkins\")"
   ]
  },
  {
   "cell_type": "code",
   "execution_count": null,
   "metadata": {},
   "outputs": [],
   "source": [
    "# default parameters must always come after non-default parameters at all times forever and ever...or else\n",
    "\n"
   ]
  },
  {
   "cell_type": "markdown",
   "metadata": {},
   "source": [
    "##### Making an Argument Optional"
   ]
  },
  {
   "cell_type": "code",
   "execution_count": 8,
   "metadata": {},
   "outputs": [
    {
     "name": "stdout",
     "output_type": "stream",
     "text": [
      "The horse's nam is Mr.  Ed\n",
      "The horse's nam is Bill the Pony\n"
     ]
    },
    {
     "data": {
      "text/plain": [
       "\"The horse's nam is Bill the Pony\""
      ]
     },
     "execution_count": 8,
     "metadata": {},
     "output_type": "execute_result"
    }
   ],
   "source": [
    "def print_horse_name(first, middle = \"\", last = \"Ed\"):\n",
    "    print(f\"The horse's nam is {first} {middle} {last}\")\n",
    "print_horse_name(\"Mr.\")\n",
    "\n",
    "print_horse_name(\"Bill\", \"the\", \"Pony\")\n",
    "\n",
    "def print_horse_name(first, middle = \"\", last = \"Ed\"):\n",
    "    return(f\"The horse's nam is {first} {middle} {last}\")\n",
    "print_horse_name(\"Mr.\")\n",
    "\n",
    "print_horse_name(\"Bill\", \"the\", \"Pony\")"
   ]
  },
  {
   "cell_type": "markdown",
   "metadata": {},
   "source": [
    "##### Keyword Arguments"
   ]
  },
  {
   "cell_type": "code",
   "execution_count": 12,
   "metadata": {},
   "outputs": [
    {
     "name": "stdout",
     "output_type": "stream",
     "text": [
      "Wow there goesbatmanwith their cool pwer ofmoneyand i am pretty sure their secret identity is Bruce wayne\n"
     ]
    }
   ],
   "source": [
    "#keyword arguments must follow positional arugments\n",
    "def show_hero(name, secret_id, power=\"flying\"):\n",
    "    return f\"Wow there goes{name}with their cool pwer of{power}and i am pretty sure their secret identity is {secret_id}\"\n",
    "print(show_hero(power=\"money\", name=\"batman\", secret_id=\"Bruce wayne\"))"
   ]
  },
  {
   "cell_type": "markdown",
   "metadata": {},
   "source": [
    "# Creating a start, stop, step function"
   ]
  },
  {
   "cell_type": "code",
   "execution_count": 15,
   "metadata": {
    "scrolled": true
   },
   "outputs": [
    {
     "name": "stdout",
     "output_type": "stream",
     "text": [
      " Here are some neat color:red,pink, and orange.\n"
     ]
    }
   ],
   "source": [
    "my_fav = \"yellow\"\n",
    "def print_color(color1, color2, color3):\n",
    "    return f\" Here are some neat color:{color1},{color2}, and {color3}.\"\n",
    "\n",
    "print(print_color(color3=\"orange\", color1 =\"red\", color2 = \"pink\"))"
   ]
  },
  {
   "cell_type": "markdown",
   "metadata": {},
   "source": [
    "##### Returning Values"
   ]
  },
  {
   "cell_type": "code",
   "execution_count": 20,
   "metadata": {},
   "outputs": [
    {
     "name": "stdout",
     "output_type": "stream",
     "text": [
      "0\n",
      "([0, 1, 4, 9, 16, 25, 36, 49, 64, 81, 100, 121, 144, 169, 196, 225, 256, 289, 324, 361], 'Hey great job, you are beautiful')\n"
     ]
    }
   ],
   "source": [
    "def my_range(stop, start=0, step=1):\n",
    "    for i in range(start, stop, step):\n",
    "        return i\n",
    "    return\"Hey great job, you are beautiful\"\n",
    "print(my_range(20))\n",
    "\n",
    "def my_range(stop, start=0, step=1):\n",
    "    squared_nums = []\n",
    "    for i in range(start, stop, step):\n",
    "     squared_nums.append(i**2)\n",
    "    return squared_nums, \"Hey great job, you are beautiful\"\n",
    "print(my_range(20))"
   ]
  },
  {
   "cell_type": "code",
   "execution_count": 21,
   "metadata": {},
   "outputs": [
    {
     "data": {
      "text/plain": [
       "'No Bulbasaur, sad'"
      ]
     },
     "execution_count": 21,
     "metadata": {},
     "output_type": "execute_result"
    }
   ],
   "source": [
    "poke_list =[\"Charmander\", \"squietle\", \"cyndaquil\"]\n",
    "def find_a_bulbasaur(arr):\n",
    "    for poke in arr:\n",
    "        if poke == \"Bulbasaur\":\n",
    "            return \"Bulba Bulba\"\n",
    "        return \"No Bulbasaur, sad\"\n",
    "find_a_bulbasaur(poke_list)"
   ]
  },
  {
   "cell_type": "code",
   "execution_count": null,
   "metadata": {},
   "outputs": [],
   "source": [
    "def is_Bulbasaur(string):\n",
    "    if string == \"Bulba Bulba\":\n",
    "        return \"you caought a Bulbasaur!\""
   ]
  },
  {
   "cell_type": "markdown",
   "metadata": {},
   "source": [
    "##### *args / **kwargs (keyword arguments)"
   ]
  },
  {
   "cell_type": "code",
   "execution_count": 29,
   "metadata": {},
   "outputs": [
    {
     "name": "stdout",
     "output_type": "stream",
     "text": [
      "These are my positional arguments, Lamp, Speaker, Alex\n",
      "These are my args,('Cheetor',)\n",
      "These are my kwargs\n",
      "language python\n",
      "weather Hot\n"
     ]
    },
    {
     "data": {
      "text/plain": [
       "'That was a really nice time, thanks for the mmrs'"
      ]
     },
     "execution_count": 29,
     "metadata": {},
     "output_type": "execute_result"
    }
   ],
   "source": [
    "#*args, **kwargs\n",
    "# *args stands for arguments and will allow the function to take in any number of arguments\n",
    "# **kwargs stands for key word arguments and will allow the function to take in any number of keyword arguments\n",
    "# if other parameters are present, args and kwarfs must go last\n",
    "\n",
    "def print_args(pos_arg1, pos_arg2, pos_name, *args, **kwargs):\n",
    "    print(f\"These are my positional arguments, {pos_arg1}, {pos_arg2}, {pos_name}\")\n",
    "    print(f\"These are my args,{args}\")\n",
    "    print(\"These are my kwargs\")\n",
    "    for key, value in kwargs.items():\n",
    "        print(key, value)\n",
    "    return\"That was a really nice time, thanks for the mmrs\"\n",
    "print_args(\"Lamp\",\"Speaker\",\"Alex\", \"Cheetor\", language=\"python\", weather=\"Hot\")\n"
   ]
  },
  {
   "cell_type": "markdown",
   "metadata": {},
   "source": [
    "##### Docstring"
   ]
  },
  {
   "cell_type": "code",
   "execution_count": 31,
   "metadata": {},
   "outputs": [
    {
     "ename": "SyntaxError",
     "evalue": "'return' outside function (2503721482.py, line 17)",
     "output_type": "error",
     "traceback": [
      "\u001b[1;36m  Cell \u001b[1;32mIn[31], line 17\u001b[1;36m\u001b[0m\n\u001b[1;33m    return \"Wow would ya just look at all those beautiful names!\"\u001b[0m\n\u001b[1;37m    ^\u001b[0m\n\u001b[1;31mSyntaxError\u001b[0m\u001b[1;31m:\u001b[0m 'return' outside function\n"
     ]
    }
   ],
   "source": [
    "# docstrings are a really nice way to leave notes about funciontality in your code\n",
    "# provide instructions\n",
    "def print_name(arr):\n",
    "    \"\"\"\n",
    "    print_names(arr)\n",
    "    function requires a list to be passed in as an argument\n",
    "    It will print the contents of the list that should be strings.\n",
    "    \"\"\"\n",
    "  #Loop through List of names and print them\n",
    "for name in arr:\n",
    "    print(name)\n",
    "    print(\"\"\"\n",
    "    Here are the instructions for the function:\n",
    "    step1: pass a list in as a parameter\n",
    "    step2:...profit?\n",
    "    \"\"\")\n",
    "    return \"Wow would ya just look at all those beautiful names!\"\n",
    "print_names(['Alex', 'Saraa'])\n",
    "help(print_names)"
   ]
  },
  {
   "cell_type": "markdown",
   "metadata": {},
   "source": [
    "##### Using a User Function in a Loop"
   ]
  },
  {
   "cell_type": "code",
   "execution_count": 6,
   "metadata": {},
   "outputs": [
    {
     "name": "stdout",
     "output_type": "stream",
     "text": [
      "whats going on?I am learning python\n",
      "I say hello I am learning python\n",
      "Are you ready to quit?no\n",
      "whats going on?I will learn\n",
      "I say hello I will learn\n",
      "Are you ready to quit?quit\n",
      "whats going on?I Learned\n",
      "I say hello I Learned\n",
      "Are you ready to quit?yes\n",
      "have a nice time\n"
     ]
    }
   ],
   "source": [
    "def print_input(suggestion):\n",
    "    return f\"I say hello {suggestion}\"\n",
    "    \n",
    "while True:\n",
    "        ask = input(\"whats going on?\")\n",
    "        \n",
    "        print(print_input(ask))\n",
    "        \n",
    "        response = input(\"Are you ready to quit?\")\n",
    "        if response.lower() == 'yes':\n",
    "            print(\"have a nice time\")\n",
    "            break\n",
    "        \n",
    " \n",
    "    \n"
   ]
  },
  {
   "cell_type": "code",
   "execution_count": null,
   "metadata": {
    "scrolled": true
   },
   "outputs": [],
   "source": []
  },
  {
   "cell_type": "code",
   "execution_count": null,
   "metadata": {},
   "outputs": [],
   "source": []
  },
  {
   "cell_type": "markdown",
   "metadata": {},
   "source": [
    "## Function Exercises <br>\n",
    "### Exercise 1\n",
    "<p>Write a function that loops through a list of first_names and a list of last_names, combines the two and return a list of full_names</p>"
   ]
  },
  {
   "cell_type": "code",
   "execution_count": null,
   "metadata": {},
   "outputs": [],
   "source": []
  },
  {
   "cell_type": "code",
   "execution_count": 3,
   "metadata": {},
   "outputs": [],
   "source": [
    "first_name = ['John', 'Evan', 'Jordan', 'Max']\n",
    "last_name = ['Smith', 'Smith', 'Williams', 'Bell']\n",
    "\n",
    "# Output: ['John Smith', 'Evan Smith', 'Jordan Williams', 'Max Bell']\n",
    "\n",
    "def fullnamemaker(lista, listb):\n",
    "    \"\"\"\n",
    "    Create the list of fullnames. \n",
    "    \"\"\"\n",
    "    output = []\n",
    "    if len(lista) < len(listb):\n",
    "        listlength = len(lista) \n",
    "    else:\n",
    "        listlength = len(listb)\n",
    "    for i in range(listlength):\n",
    "        output.append(lista[i] + \" \" + listb[i])\n",
    "    return output\n",
    "#or"
   ]
  },
  {
   "cell_type": "markdown",
   "metadata": {},
   "source": [
    "### Exercise 2\n",
    "Create a function that alters all values in the given list by subtracting 5 and then doubling them."
   ]
  },
  {
   "cell_type": "code",
   "execution_count": 7,
   "metadata": {},
   "outputs": [
    {
     "data": {
      "text/plain": [
       "[0, 10, 20, 30, -4]"
      ]
     },
     "execution_count": 7,
     "metadata": {},
     "output_type": "execute_result"
    }
   ],
   "source": [
    "input_list = [5,10,15,20,3]\n",
    "# output = [0,10,20,30,-4]\n",
    "\n",
    "def ex_2(arr):\n",
    "    out = []\n",
    "    for i in range(arr):\n",
    "        input[i] = (input[i]-5)*2\n",
    "        out.append(arr[i])\n",
    "    return out\n",
    "\n",
    "\n",
    "\n",
    "\n",
    "#or\n",
    "def do_math(input_list):\n",
    "    new_list = []\n",
    "    for num in input_list:\n",
    "        new = (num - 5) * 2\n",
    "        new_list.append(new)\n",
    "    return new_list\n",
    "\n",
    "do_math(input_list)"
   ]
  },
  {
   "cell_type": "markdown",
   "metadata": {},
   "source": [
    "### Exercise 3\n",
    "Create a function that takes in a list of strings and filters out the strings that DO NOT contain vowels. "
   ]
  },
  {
   "cell_type": "code",
   "execution_count": 9,
   "metadata": {},
   "outputs": [
    {
     "data": {
      "text/plain": [
       "['Sheldon', 'Leonard', 'Amy']"
      ]
     },
     "execution_count": 9,
     "metadata": {},
     "output_type": "execute_result"
    }
   ],
   "source": [
    "string_list = ['Sheldon','Pnny','Leonard','Hwrd','Rj','Amy','Strt']\n",
    "# output = ['Sheldon','Leonard','Amy']\n",
    "    \n",
    "def vowels_only(arr):\n",
    "    vowels = ['a', 'e', 'i', 'o', 'u']\n",
    "    new_list = []\n",
    "    for name in arr:\n",
    "        for vowel in vowels:\n",
    "            if vowel in name.lower():\n",
    "                new_list.append(name)\n",
    "                break\n",
    "                \n",
    "        \n",
    "        \n",
    "    return new_list\n",
    "\n",
    "vowels_only(string_list) "
   ]
  },
  {
   "cell_type": "code",
   "execution_count": null,
   "metadata": {},
   "outputs": [],
   "source": []
  },
  {
   "cell_type": "code",
   "execution_count": null,
   "metadata": {},
   "outputs": [],
   "source": []
  },
  {
   "cell_type": "markdown",
   "metadata": {},
   "source": [
    "### Exercise 4\n",
    "Create a function that accepts a list as a parameter and returns a dictionary containing the list items as it's keys, and the number of times they appear in the list as the values"
   ]
  },
  {
   "cell_type": "code",
   "execution_count": 10,
   "metadata": {},
   "outputs": [
    {
     "data": {
      "text/plain": [
       "{'Harry': 3, 'Hermione': 2, 'Ron': 4, 'Dobby': 1, 'Draco': 1, 'Luna': 1}"
      ]
     },
     "execution_count": 10,
     "metadata": {},
     "output_type": "execute_result"
    }
   ],
   "source": [
    "example_list = [\"Harry\", 'Hermione','Harry','Ron','Dobby','Draco','Luna','Harry','Hermione','Ron','Ron','Ron']\n",
    "\n",
    "# output = {\n",
    "#     \"Harry\":3,\n",
    "#     \"Hermione\":2,\n",
    "#     \"Ron\":4,\n",
    "#     \"Dobby\":1,\n",
    "#     \"Draco\":1,\n",
    "#     \"Luna\": 1\n",
    "# }\n",
    "def hogwarts(arr):\n",
    "    students = {}\n",
    "    for i in arr:\n",
    "        if i not in students:\n",
    "            students[i] = 1\n",
    "        else:\n",
    "            students[i] += 1\n",
    "    return students\n",
    "\n",
    "hogwarts(example_list)\n",
    "\n"
   ]
  },
  {
   "cell_type": "markdown",
   "metadata": {},
   "source": [
    "\n",
    "\n",
    "## Scope <br>\n",
    "<p>Scope refers to the ability to access variables, different types of scope include:<br>a) Global<br>b) Function (local)<br>c) Class (local)</p>"
   ]
  },
  {
   "cell_type": "code",
   "execution_count": 13,
   "metadata": {},
   "outputs": [
    {
     "name": "stdout",
     "output_type": "stream",
     "text": [
      "3\n",
      "hello3\n"
     ]
    }
   ],
   "source": [
    "# placement of variable declaration matters\n",
    "number = 3 #<--global variable\n",
    "#its not confined to a function or class\n",
    "\n",
    "def print_num():\n",
    "    return number\n",
    "def say_hello_num():\n",
    "    return f\"hello{number}\"\n",
    "print(print_num())\n",
    "\n",
    "print(say_hello_num())"
   ]
  },
  {
   "cell_type": "code",
   "execution_count": null,
   "metadata": {},
   "outputs": [],
   "source": [
    "def squared_nums(arr):\n",
    "    squared_list = []\n",
    "    for num in arr:\n",
    "        squared_list.append(num**2)\n",
    "        return squared_list\n",
    "print(squared_nums([2,3,4,5,]))\n",
    "def steal_squared():\n",
    "    "
   ]
  },
  {
   "cell_type": "markdown",
   "metadata": {},
   "source": [
    "## Modules"
   ]
  },
  {
   "cell_type": "markdown",
   "metadata": {},
   "source": [
    "##### Importing Entire Modules\n"
   ]
  },
  {
   "cell_type": "code",
   "execution_count": 7,
   "metadata": {},
   "outputs": [
    {
     "name": "stdout",
     "output_type": "stream",
     "text": [
      "2\n",
      "3.141592653589793\n",
      "4\n"
     ]
    }
   ],
   "source": [
    "## Modules\n",
    "import math\n",
    "num = 5\n",
    "num = 2\n",
    "\n",
    "print(math.ceil(3/2))\n",
    "\n",
    "print(math.pi)\n",
    "print(math.ceil(math.pi))\n"
   ]
  },
  {
   "cell_type": "markdown",
   "metadata": {},
   "source": [
    "##### Importing Methods Only"
   ]
  },
  {
   "cell_type": "code",
   "execution_count": 10,
   "metadata": {},
   "outputs": [
    {
     "name": "stdout",
     "output_type": "stream",
     "text": [
      "3.141592653589793\n",
      "3\n",
      "4\n"
     ]
    }
   ],
   "source": [
    "# from xxx import yyy\n",
    "#from math import floor\n",
    "from math import floor, pi,ceil\n",
    "print(pi)\n",
    "print(floor(pi))\n",
    "print(ceil(pi))"
   ]
  },
  {
   "cell_type": "markdown",
   "metadata": {},
   "source": [
    "##### Using the 'as' Keyword"
   ]
  },
  {
   "cell_type": "code",
   "execution_count": 11,
   "metadata": {},
   "outputs": [
    {
     "name": "stdout",
     "output_type": "stream",
     "text": [
      "3.141592653589793\n",
      "4\n",
      "3\n"
     ]
    }
   ],
   "source": [
    "# from xxx import yyy as z\n",
    "from math import floor as f, pi as p, ceil as c\n",
    "print(p)\n",
    "print(c(p))\n",
    "print(f(p))"
   ]
  },
  {
   "cell_type": "markdown",
   "metadata": {},
   "source": [
    "##### Creating a Module"
   ]
  },
  {
   "cell_type": "code",
   "execution_count": 5,
   "metadata": {},
   "outputs": [
    {
     "ename": "IndentationError",
     "evalue": "expected an indented block after function definition on line 4 (module.py, line 5)",
     "output_type": "error",
     "traceback": [
      "Traceback \u001b[1;36m(most recent call last)\u001b[0m:\n",
      "\u001b[0m  File \u001b[0;32m~\\AppData\\Local\\Programs\\Python\\Python311\\Lib\\site-packages\\IPython\\core\\interactiveshell.py:3508\u001b[0m in \u001b[0;35mrun_code\u001b[0m\n    exec(code_obj, self.user_global_ns, self.user_ns)\u001b[0m\n",
      "\u001b[1;36m  Cell \u001b[1;32mIn[5], line 1\u001b[1;36m\n\u001b[1;33m    from module import square_footage as sf, c_of_circle as C\u001b[1;36m\n",
      "\u001b[1;36m  File \u001b[1;32m~\\OneDrive\\Documents\\Homework\\weak2\\day4\\module.py:5\u001b[1;36m\u001b[0m\n\u001b[1;33m    l == 2500\u001b[0m\n\u001b[1;37m    ^\u001b[0m\n\u001b[1;31mIndentationError\u001b[0m\u001b[1;31m:\u001b[0m expected an indented block after function definition on line 4\n"
     ]
    }
   ],
   "source": [
    "from module import square_footage as sf, c_of_circle as C\n",
    "print(sf)"
   ]
  },
  {
   "cell_type": "code",
   "execution_count": null,
   "metadata": {},
   "outputs": [],
   "source": [
    "from "
   ]
  },
  {
   "cell_type": "markdown",
   "metadata": {},
   "source": [
    "# Homework Exercises"
   ]
  },
  {
   "cell_type": "markdown",
   "metadata": {},
   "source": [
    "### 1) Create a Module in VS Code and Import It into jupyter notebook <br>\n",
    "<p><b>Module should have the following capabilities:</b><br><br>\n",
    "1a) Has a function to calculate the square footage of a house <br>\n",
    "    <b>Reminder of Formula: Length X Width == Area</b><br>\n",
    "        <hr>\n",
    "1b) Has a function to calculate the circumference of a circle 2 Pi r <br><br>\n",
    "<b>Program in Jupyter Notebook should take in user input and use imported functions to calculate a circle's circumference or a houses square footage</b>\n",
    "</p>"
   ]
  },
  {
   "cell_type": "code",
   "execution_count": 10,
   "metadata": {},
   "outputs": [
    {
     "name": "stdout",
     "output_type": "stream",
     "text": [
      "62.83185307179586\n",
      "10\n"
     ]
    }
   ],
   "source": [
    "from module import floor, pi\n",
    "\n",
    "length = 5\n",
    "width = 2\n",
    "radius = 10\n",
    "print (2*pi*radius)\n",
    "print(floor(length * width))"
   ]
  },
  {
   "cell_type": "markdown",
   "metadata": {},
   "source": [
    "### 2) Build a Shopping Cart Function <br>\n",
    "<p><b>You can use either lists or dictionaries. The program should have the following capabilities:</b><br><br>\n",
    "1) Takes in input <br>\n",
    "2) Stores user input into a dictionary or list <br>\n",
    "3) The User can add or delete items <br>\n",
    "4) The User can see current shopping list <br>\n",
    "5) The program Loops until user 'quits' <br>\n",
    "6) Upon quiting the program, print out all items in the user's list <br>\n",
    "</p>"
   ]
  },
  {
   "cell_type": "code",
   "execution_count": null,
   "metadata": {},
   "outputs": [],
   "source": [
    "from IPython.display import clear_output\n",
    "\n",
    "#step1\n",
    "def shopping_cart():\n",
    "   \n",
    "  #step 2\n",
    "    d ={}\n",
    "    \n",
    "    #step3 add items\n",
    "my_nums = {2,3,4,5}\n",
    "my_nums.add(9)\n",
    "print(my_nums)\n",
    "\n",
    "  #remove items\n",
    "my_nums.remove(3)\n",
    "print(my_nums)\n",
    "    \n",
    "    #step 4\n",
    "print(my_nums)\n",
    "\n",
    "\n",
    " #step 5\n",
    "while True:\n",
    "       \n",
    "        name = input(\"Enter a name or say 'quit' to quit:\")\n",
    "        if name.lower() != \"quit\":\n",
    "            fav = input(\"Enter Your Fav color or say 'quit' to quit:\")\n",
    "     \n",
    "        if name.lower() ==\"quit\" or fav.lower() == \"quit\":\n",
    "          \n",
    "            for name, fav in d.items():\n",
    "                print(f\"The address for {name} is {fav}.\")\n",
    "                #step 5b   \n",
    "                break\n",
    "             \n",
    "                d[name] = fav\n",
    "            #step 6\n",
    "            store_info()\n",
    "    \n"
   ]
  },
  {
   "cell_type": "code",
   "execution_count": null,
   "metadata": {},
   "outputs": [],
   "source": []
  },
  {
   "cell_type": "code",
   "execution_count": null,
   "metadata": {},
   "outputs": [],
   "source": []
  }
 ],
 "metadata": {
  "kernelspec": {
   "display_name": "Python 3 (ipykernel)",
   "language": "python",
   "name": "python3"
  },
  "language_info": {
   "codemirror_mode": {
    "name": "ipython",
    "version": 3
   },
   "file_extension": ".py",
   "mimetype": "text/x-python",
   "name": "python",
   "nbconvert_exporter": "python",
   "pygments_lexer": "ipython3",
   "version": "3.11.3"
  }
 },
 "nbformat": 4,
 "nbformat_minor": 2
}
